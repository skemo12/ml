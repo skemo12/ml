{
 "cells": [
  {
   "cell_type": "code",
   "execution_count": 404,
   "metadata": {},
   "outputs": [
    {
     "name": "stdout",
     "output_type": "stream",
     "text": [
      "200\n",
      "[ 1 13 12 19  1  6  6 15  8  4  5 12 11 18  9  9 12 16  2  8 11  3  9 17\n",
      "  2 16  2  5  3 17 11 10 13 18  2  7 13 11 10 16]\n",
      "[ 7  3  5  7  9  1 18 12 12 19  1 18 12 13 16  6 17  6 15 16 10 10 10  6\n",
      " 11 16 10  5  1 12  4 19  6  4 13  1 17 11  9 11]\n"
     ]
    }
   ],
   "source": [
    "import numpy as np\n",
    "import matplotlib.pyplot as plt\n",
    "with open(\"dataset\") as f:\n",
    "    MAX_WEIGHT = int(f.readline().strip())\n",
    "    values = f.readline().strip().split()\n",
    "    weights = f.readline().strip().split()\n",
    "\n",
    "values = [int(x.replace(',', '')) for x in values]\n",
    "weights = [int(x.replace(',', '')) for x in weights]\n",
    "\n",
    "values = np.array(values)\n",
    "weights = np.array(weights)\n",
    "print(MAX_WEIGHT)\n",
    "print(values)\n",
    "print(weights)\n"
   ]
  },
  {
   "cell_type": "code",
   "execution_count": 405,
   "metadata": {},
   "outputs": [],
   "source": [
    "solution = [0 for _ in values]"
   ]
  },
  {
   "cell_type": "code",
   "execution_count": 406,
   "metadata": {},
   "outputs": [],
   "source": [
    "def fitness(solution):\n",
    "    if solution == None:\n",
    "        return 0\n",
    "    value = np.sum([x*y for x, y in zip(solution, values)])\n",
    "    return value if total_weight(solution) <= MAX_WEIGHT else 0\n",
    "\n",
    "def total_weight(solution):\n",
    "    return np.sum([x*y for x, y in zip(solution, weights)])\n",
    "\n",
    "def maximum_weight(solution):\n",
    "    w = 0\n",
    "    idx = 0\n",
    "    while sum < MAX_WEIGHT:\n",
    "        w += weights[idx] * solution[idx]\n",
    "        idx += 1\n",
    "    return w"
   ]
  },
  {
   "cell_type": "code",
   "execution_count": 407,
   "metadata": {},
   "outputs": [],
   "source": [
    "# Genetical algorithm\n",
    "\n",
    "import random\n",
    "\n",
    "# Selection tour with dimension k (3, 5, 10, 20)\n",
    "def selection_tour(population, k):\n",
    "    return max(random.sample(population, k), key=fitness)\n",
    "\n",
    "def one_point_crossover(parent1, parent2):\n",
    "    point = random.randint(0, len(parent1) - 1)\n",
    "    return parent1[:point] + parent2[point:], parent2[:point] + parent1[point:]\n",
    "\n",
    "def bit_flip_mutation(individual):\n",
    "    point = random.randint(0, len(individual) - 1)\n",
    "    individual[point] = 1 - individual[point]\n",
    "    return individual\n",
    "\n"
   ]
  },
  {
   "cell_type": "code",
   "execution_count": 408,
   "metadata": {},
   "outputs": [
    {
     "name": "stdout",
     "output_type": "stream",
     "text": [
      "306\n",
      "200\n",
      "[0, 1, 1, 1, 0, 1, 0, 1, 1, 0, 1, 0, 1, 1, 0, 1, 0, 1, 0, 0, 1, 0, 1, 1, 0, 1, 0, 1, 0, 1, 1, 0, 1, 1, 0, 1, 1, 1, 1, 1]\n",
      "[226, 241, 260, 268, 270, 277, 280, 280, 280, 294, 294, 294, 295, 297, 297, 297, 297, 297, 304, 304, 304, 304, 304, 304, 304, 304, 304, 304, 304, 304, 304, 304, 304, 306, 306, 306, 306, 306, 306, 306, 306, 306, 306, 306, 306, 306, 306, 306, 306, 306, 306, 306, 306, 306, 306, 306, 306, 306, 306, 306, 306, 306, 306, 306, 306, 306, 306, 306, 306, 306, 306, 306, 306, 306, 306, 306, 306, 306, 306, 306, 306, 306, 306, 306, 306, 306, 306, 306, 306, 306, 306, 306, 306, 306, 306, 306, 306, 306, 306, 306]\n"
     ]
    },
    {
     "data": {
      "image/png": "[encoded data removed]",
      "text/plain": [
       "<Figure size 640x480 with 1 Axes>"
      ]
     },
     "metadata": {},
     "output_type": "display_data"
    }
   ],
   "source": [
    "from copy import copy\n",
    "\n",
    "\n",
    "M = 100\n",
    "K_Values = [3, 5, 10, 20]\n",
    "population = [[random.randint(0, 1) for _ in values] for _ in range(M)]\n",
    "iteration = 100\n",
    "best_solution = None\n",
    "best_fitnesses = []  # list to store the best fitness of each generation\n",
    "best_fitness = 0\n",
    "while iteration > 0:\n",
    "    iteration -= 1\n",
    "    new_population = [selection_tour(population, random.choice(K_Values)) for _ in range(M // 2)]\n",
    "    for _ in range(M // 4):\n",
    "        parent1 = selection_tour(population, random.choice(K_Values))\n",
    "        parent2 = selection_tour(population, random.choice(K_Values))\n",
    "        child1, child2 = one_point_crossover(parent1, parent2)\n",
    "        new_population.append(child1)\n",
    "        new_population.append(child2)\n",
    "    for idx in range(len(new_population)):\n",
    "        if random.randint(0, 100) < 50:\n",
    "            new_population[idx] = bit_flip_mutation(new_population[idx])\n",
    "    for x in new_population:\n",
    "        value = fitness(x)\n",
    "        if value > fitness(best_solution):\n",
    "            best_solution = copy(x)\n",
    "            best_fitness = value\n",
    "    best_fitnesses.append(best_fitness)\n",
    "\n",
    "    population = new_population\n",
    "\n",
    "print(fitness(best_solution))\n",
    "print(total_weight(best_solution))\n",
    "print(best_solution)\n",
    "print(best_fitnesses)\n",
    "\n",
    "plt.plot(best_fitnesses)\n",
    "plt.xlabel('Generation')\n",
    "plt.ylabel('Best Fitness')\n",
    "plt.show()"
   ]
  }
 ],
 "metadata": {
  "kernelspec": {
   "display_name": "Python 3",
   "language": "python",
   "name": "python3"
  },
  "language_info": {
   "codemirror_mode": {
    "name": "ipython",
    "version": 3
   },
   "file_extension": ".py",
   "mimetype": "text/x-python",
   "name": "python",
   "nbconvert_exporter": "python",
   "pygments_lexer": "ipython3",
   "version": "3.10.12"
  }
 },
 "nbformat": 4,
 "nbformat_minor": 2
}
